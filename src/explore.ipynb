{
 "cells": [
  {
   "cell_type": "markdown",
   "metadata": {},
   "source": [
    "# Explore here"
   ]
  },
  {
   "cell_type": "code",
   "execution_count": 7,
   "metadata": {},
   "outputs": [],
   "source": [
    "import os\n",
    "from dotenv import load_dotenv\n",
    "load_dotenv()\n",
    "\n",
    "client_id = os.environ.get('CLIENT_ID')\n",
    "client_secret = os.environ.get('CLIENT_SECRET')\n",
    "\n",
    "\n"
   ]
  },
  {
   "cell_type": "code",
   "execution_count": 8,
   "metadata": {},
   "outputs": [],
   "source": [
    "import spotipy\n",
    "from spotipy.oauth2 import SpotifyClientCredentials\n",
    "\n",
    "auth_manager = SpotifyClientCredentials(client_id=client_id, client_secret=client_secret)\n",
    "spotify = spotipy.Spotify(auth_manager=auth_manager)"
   ]
  },
  {
   "cell_type": "code",
   "execution_count": 9,
   "metadata": {},
   "outputs": [],
   "source": [
    "artist_id = \"4AbDWrmJPSOeIbT2Ou60ik\"\n",
    "\n",
    "# Get the top tracks of an artist\n",
    "results = spotify.artist_top_tracks(artist_id)\n",
    "\n",
    "songs = []\n",
    "for track in results['tracks']:\n",
    "    songs.append({\n",
    "        'name': track['name'],\n",
    "        'popularity': track['popularity'],\n",
    "        'duration_min': track['duration_ms'] / 60000\n",
    "    })"
   ]
  },
  {
   "cell_type": "code",
   "execution_count": 10,
   "metadata": {},
   "outputs": [
    {
     "name": "stdout",
     "output_type": "stream",
     "text": [
      "                 name  popularity  duration_min\n",
      "0  Roses for the Dead          52      4.123767\n",
      "1              Juneau          42      3.628217\n",
      "2  Rookie Of The Year          41      3.006433\n",
      "3           Streetcar          48      3.614883\n",
      "4             History          47      4.159100\n"
     ]
    }
   ],
   "source": [
    "import pandas as pd\n",
    "tracks_df = pd.DataFrame(songs)\n",
    "\n",
    "print(tracks_df.head(5))"
   ]
  },
  {
   "cell_type": "code",
   "execution_count": 11,
   "metadata": {},
   "outputs": [
    {
     "name": "stdout",
     "output_type": "stream",
     "text": [
      "track    : Roses for the Dead\n",
      "track    : Juneau\n",
      "track    : Rookie Of The Year\n",
      "track    : Streetcar\n",
      "track    : History\n",
      "track    : All the Rage\n",
      "track    : Into Oblivion (Reunion)\n",
      "track    : Escape Artists Never Die\n",
      "track    : Red Is The New Black\n",
      "track    : Recovery\n"
     ]
    }
   ],
   "source": [
    "songs=[]\n",
    "popularity=[]\n",
    "duration=[]\n",
    "\n",
    "for track in results['tracks'][:10]:\n",
    "    print('track    : ' + track['name'])\n",
    "    songs.append(track['name'])\n",
    "    popularity.append(track['popularity'])\n",
    "    duration.append(track['duration_ms']/(1000*60)%60)"
   ]
  },
  {
   "cell_type": "code",
   "execution_count": 12,
   "metadata": {},
   "outputs": [],
   "source": [
    "df = pd.DataFrame()\n",
    "\n",
    "df['songs'] = songs\n",
    "df['popularity'] = popularity\n",
    "df['duration'] = duration"
   ]
  },
  {
   "cell_type": "code",
   "execution_count": 13,
   "metadata": {},
   "outputs": [
    {
     "data": {
      "text/html": [
       "<div>\n",
       "<style scoped>\n",
       "    .dataframe tbody tr th:only-of-type {\n",
       "        vertical-align: middle;\n",
       "    }\n",
       "\n",
       "    .dataframe tbody tr th {\n",
       "        vertical-align: top;\n",
       "    }\n",
       "\n",
       "    .dataframe thead th {\n",
       "        text-align: right;\n",
       "    }\n",
       "</style>\n",
       "<table border=\"1\" class=\"dataframe\">\n",
       "  <thead>\n",
       "    <tr style=\"text-align: right;\">\n",
       "      <th></th>\n",
       "      <th>songs</th>\n",
       "      <th>popularity</th>\n",
       "      <th>duration</th>\n",
       "    </tr>\n",
       "  </thead>\n",
       "  <tbody>\n",
       "    <tr>\n",
       "      <th>0</th>\n",
       "      <td>Roses for the Dead</td>\n",
       "      <td>52</td>\n",
       "      <td>4.123767</td>\n",
       "    </tr>\n",
       "    <tr>\n",
       "      <th>1</th>\n",
       "      <td>Juneau</td>\n",
       "      <td>42</td>\n",
       "      <td>3.628217</td>\n",
       "    </tr>\n",
       "    <tr>\n",
       "      <th>2</th>\n",
       "      <td>Rookie Of The Year</td>\n",
       "      <td>41</td>\n",
       "      <td>3.006433</td>\n",
       "    </tr>\n",
       "    <tr>\n",
       "      <th>3</th>\n",
       "      <td>Streetcar</td>\n",
       "      <td>48</td>\n",
       "      <td>3.614883</td>\n",
       "    </tr>\n",
       "    <tr>\n",
       "      <th>4</th>\n",
       "      <td>History</td>\n",
       "      <td>47</td>\n",
       "      <td>4.159100</td>\n",
       "    </tr>\n",
       "    <tr>\n",
       "      <th>5</th>\n",
       "      <td>All the Rage</td>\n",
       "      <td>26</td>\n",
       "      <td>3.628667</td>\n",
       "    </tr>\n",
       "    <tr>\n",
       "      <th>6</th>\n",
       "      <td>Into Oblivion (Reunion)</td>\n",
       "      <td>25</td>\n",
       "      <td>4.382000</td>\n",
       "    </tr>\n",
       "    <tr>\n",
       "      <th>7</th>\n",
       "      <td>Escape Artists Never Die</td>\n",
       "      <td>29</td>\n",
       "      <td>5.300000</td>\n",
       "    </tr>\n",
       "    <tr>\n",
       "      <th>8</th>\n",
       "      <td>Red Is The New Black</td>\n",
       "      <td>28</td>\n",
       "      <td>5.241767</td>\n",
       "    </tr>\n",
       "    <tr>\n",
       "      <th>9</th>\n",
       "      <td>Recovery</td>\n",
       "      <td>29</td>\n",
       "      <td>3.510217</td>\n",
       "    </tr>\n",
       "  </tbody>\n",
       "</table>\n",
       "</div>"
      ],
      "text/plain": [
       "                      songs  popularity  duration\n",
       "0        Roses for the Dead          52  4.123767\n",
       "1                    Juneau          42  3.628217\n",
       "2        Rookie Of The Year          41  3.006433\n",
       "3                 Streetcar          48  3.614883\n",
       "4                   History          47  4.159100\n",
       "5              All the Rage          26  3.628667\n",
       "6   Into Oblivion (Reunion)          25  4.382000\n",
       "7  Escape Artists Never Die          29  5.300000\n",
       "8      Red Is The New Black          28  5.241767\n",
       "9                  Recovery          29  3.510217"
      ]
     },
     "execution_count": 13,
     "metadata": {},
     "output_type": "execute_result"
    }
   ],
   "source": [
    "df"
   ]
  },
  {
   "cell_type": "code",
   "execution_count": null,
   "metadata": {},
   "outputs": [
    {
     "data": {
      "text/html": [
       "<div>\n",
       "<style scoped>\n",
       "    .dataframe tbody tr th:only-of-type {\n",
       "        vertical-align: middle;\n",
       "    }\n",
       "\n",
       "    .dataframe tbody tr th {\n",
       "        vertical-align: top;\n",
       "    }\n",
       "\n",
       "    .dataframe thead th {\n",
       "        text-align: right;\n",
       "    }\n",
       "</style>\n",
       "<table border=\"1\" class=\"dataframe\">\n",
       "  <thead>\n",
       "    <tr style=\"text-align: right;\">\n",
       "      <th></th>\n",
       "      <th>songs</th>\n",
       "      <th>popularity</th>\n",
       "      <th>duration</th>\n",
       "    </tr>\n",
       "  </thead>\n",
       "  <tbody>\n",
       "    <tr>\n",
       "      <th>0</th>\n",
       "      <td>Roses for the Dead</td>\n",
       "      <td>52</td>\n",
       "      <td>4.123767</td>\n",
       "    </tr>\n",
       "    <tr>\n",
       "      <th>3</th>\n",
       "      <td>Streetcar</td>\n",
       "      <td>48</td>\n",
       "      <td>3.614883</td>\n",
       "    </tr>\n",
       "    <tr>\n",
       "      <th>4</th>\n",
       "      <td>History</td>\n",
       "      <td>47</td>\n",
       "      <td>4.159100</td>\n",
       "    </tr>\n",
       "    <tr>\n",
       "      <th>1</th>\n",
       "      <td>Juneau</td>\n",
       "      <td>42</td>\n",
       "      <td>3.628217</td>\n",
       "    </tr>\n",
       "    <tr>\n",
       "      <th>2</th>\n",
       "      <td>Rookie Of The Year</td>\n",
       "      <td>41</td>\n",
       "      <td>3.006433</td>\n",
       "    </tr>\n",
       "    <tr>\n",
       "      <th>7</th>\n",
       "      <td>Escape Artists Never Die</td>\n",
       "      <td>29</td>\n",
       "      <td>5.300000</td>\n",
       "    </tr>\n",
       "    <tr>\n",
       "      <th>9</th>\n",
       "      <td>Recovery</td>\n",
       "      <td>29</td>\n",
       "      <td>3.510217</td>\n",
       "    </tr>\n",
       "    <tr>\n",
       "      <th>8</th>\n",
       "      <td>Red Is The New Black</td>\n",
       "      <td>28</td>\n",
       "      <td>5.241767</td>\n",
       "    </tr>\n",
       "    <tr>\n",
       "      <th>5</th>\n",
       "      <td>All the Rage</td>\n",
       "      <td>26</td>\n",
       "      <td>3.628667</td>\n",
       "    </tr>\n",
       "    <tr>\n",
       "      <th>6</th>\n",
       "      <td>Into Oblivion (Reunion)</td>\n",
       "      <td>25</td>\n",
       "      <td>4.382000</td>\n",
       "    </tr>\n",
       "  </tbody>\n",
       "</table>\n",
       "</div>"
      ],
      "text/plain": [
       "                      songs  popularity  duration\n",
       "0        Roses for the Dead          52  4.123767\n",
       "3                 Streetcar          48  3.614883\n",
       "4                   History          47  4.159100\n",
       "1                    Juneau          42  3.628217\n",
       "2        Rookie Of The Year          41  3.006433\n",
       "7  Escape Artists Never Die          29  5.300000\n",
       "9                  Recovery          29  3.510217\n",
       "8      Red Is The New Black          28  5.241767\n",
       "5              All the Rage          26  3.628667\n",
       "6   Into Oblivion (Reunion)          25  4.382000"
      ]
     },
     "execution_count": 14,
     "metadata": {},
     "output_type": "execute_result"
    }
   ],
   "source": [
    "df_ascendente = df.sort_values(by='popularity', ascending=False)\n",
    "df_ascendente"
   ]
  },
  {
   "cell_type": "code",
   "execution_count": null,
   "metadata": {},
   "outputs": [
    {
     "data": {
      "text/html": [
       "<div>\n",
       "<style scoped>\n",
       "    .dataframe tbody tr th:only-of-type {\n",
       "        vertical-align: middle;\n",
       "    }\n",
       "\n",
       "    .dataframe tbody tr th {\n",
       "        vertical-align: top;\n",
       "    }\n",
       "\n",
       "    .dataframe thead th {\n",
       "        text-align: right;\n",
       "    }\n",
       "</style>\n",
       "<table border=\"1\" class=\"dataframe\">\n",
       "  <thead>\n",
       "    <tr style=\"text-align: right;\">\n",
       "      <th></th>\n",
       "      <th>songs</th>\n",
       "      <th>popularity</th>\n",
       "      <th>duration</th>\n",
       "    </tr>\n",
       "  </thead>\n",
       "  <tbody>\n",
       "    <tr>\n",
       "      <th>0</th>\n",
       "      <td>Roses for the Dead</td>\n",
       "      <td>52</td>\n",
       "      <td>4.123767</td>\n",
       "    </tr>\n",
       "    <tr>\n",
       "      <th>3</th>\n",
       "      <td>Streetcar</td>\n",
       "      <td>48</td>\n",
       "      <td>3.614883</td>\n",
       "    </tr>\n",
       "    <tr>\n",
       "      <th>4</th>\n",
       "      <td>History</td>\n",
       "      <td>47</td>\n",
       "      <td>4.159100</td>\n",
       "    </tr>\n",
       "    <tr>\n",
       "      <th>1</th>\n",
       "      <td>Juneau</td>\n",
       "      <td>42</td>\n",
       "      <td>3.628217</td>\n",
       "    </tr>\n",
       "    <tr>\n",
       "      <th>2</th>\n",
       "      <td>Rookie Of The Year</td>\n",
       "      <td>41</td>\n",
       "      <td>3.006433</td>\n",
       "    </tr>\n",
       "  </tbody>\n",
       "</table>\n",
       "</div>"
      ],
      "text/plain": [
       "                songs  popularity  duration\n",
       "0  Roses for the Dead          52  4.123767\n",
       "3           Streetcar          48  3.614883\n",
       "4             History          47  4.159100\n",
       "1              Juneau          42  3.628217\n",
       "2  Rookie Of The Year          41  3.006433"
      ]
     },
     "execution_count": 16,
     "metadata": {},
     "output_type": "execute_result"
    }
   ],
   "source": [
    "df_ascendente.head(5)"
   ]
  },
  {
   "cell_type": "code",
   "execution_count": 27,
   "metadata": {},
   "outputs": [
    {
     "data": {
      "image/png": "[encoded data removed]",
      "text/plain": [
       "<Figure size 640x480 with 1 Axes>"
      ]
     },
     "metadata": {},
     "output_type": "display_data"
    }
   ],
   "source": [
    "Popularity_duration_tracks = df.plot.scatter(x='duration',\n",
    "                      y='popularity',\n",
    "                      c='Red'\n",
    "                      )"
   ]
  },
  {
   "cell_type": "markdown",
   "metadata": {},
   "source": [
    "Podemos ver que las canciones mas populares estan entre los 3.5 minutos a 4, pero no es una fuerte relacion, mientras que las canciones mas largas no tienen tanta popularidad."
   ]
  },
  {
   "cell_type": "code",
   "execution_count": 20,
   "metadata": {},
   "outputs": [
    {
     "data": {
      "text/plain": [
       "<sqlite3.Connection at 0x77987d38e890>"
      ]
     },
     "execution_count": 20,
     "metadata": {},
     "output_type": "execute_result"
    }
   ],
   "source": [
    "import sqlite3\n",
    "connection = sqlite3.connect(\"SpotifyTracks.db\")\n",
    "connection"
   ]
  },
  {
   "cell_type": "code",
   "execution_count": 21,
   "metadata": {},
   "outputs": [
    {
     "data": {
      "text/plain": [
       "<sqlite3.Cursor at 0x77987d401b40>"
      ]
     },
     "execution_count": 21,
     "metadata": {},
     "output_type": "execute_result"
    }
   ],
   "source": [
    "cursor = connection.cursor()\n",
    "cursor.execute(\"\"\"CREATE TABLE MisCancionesSpotify (songs, popularity, duration)\"\"\")"
   ]
  },
  {
   "cell_type": "code",
   "execution_count": 22,
   "metadata": {},
   "outputs": [
    {
     "data": {
      "text/plain": [
       "[np.record(('Roses for the Dead', 52, 4.123766666666667), dtype=[('songs', 'O'), ('popularity', '<i8'), ('duration', '<f8')]),\n",
       " np.record(('Streetcar', 48, 3.6148833333333332), dtype=[('songs', 'O'), ('popularity', '<i8'), ('duration', '<f8')]),\n",
       " np.record(('History', 47, 4.1591), dtype=[('songs', 'O'), ('popularity', '<i8'), ('duration', '<f8')]),\n",
       " np.record(('Juneau', 42, 3.628216666666667), dtype=[('songs', 'O'), ('popularity', '<i8'), ('duration', '<f8')]),\n",
       " np.record(('Rookie Of The Year', 41, 3.0064333333333333), dtype=[('songs', 'O'), ('popularity', '<i8'), ('duration', '<f8')])]"
      ]
     },
     "execution_count": 22,
     "metadata": {},
     "output_type": "execute_result"
    }
   ],
   "source": [
    "CancionesSpotify = list(df_ascending.to_records(index = False))\n",
    "CancionesSpotify[:5]"
   ]
  },
  {
   "cell_type": "code",
   "execution_count": 24,
   "metadata": {},
   "outputs": [],
   "source": [
    "cursor.executemany(\"INSERT INTO MisCancionesSpotify VALUES (?,?,?)\", CancionesSpotify)\n",
    "connection.commit()"
   ]
  }
 ],
 "metadata": {
  "kernelspec": {
   "display_name": "Python 3",
   "language": "python",
   "name": "python3"
  },
  "language_info": {
   "codemirror_mode": {
    "name": "ipython",
    "version": 3
   },
   "file_extension": ".py",
   "mimetype": "text/x-python",
   "name": "python",
   "nbconvert_exporter": "python",
   "pygments_lexer": "ipython3",
   "version": "3.11.4"
  },
  "orig_nbformat": 4
 },
 "nbformat": 4,
 "nbformat_minor": 2
}
